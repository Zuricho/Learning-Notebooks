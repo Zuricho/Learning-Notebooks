{
 "cells": [
  {
   "cell_type": "markdown",
   "metadata": {},
   "source": [
    "# Machine Learning Course\n",
    "Data from 2019_nCoV\n",
    "\n",
    "Graduate Decent\n",
    "## Using a linear model"
   ]
  },
  {
   "cell_type": "code",
   "execution_count": 10,
   "metadata": {},
   "outputs": [],
   "source": [
    "import matplotlib.pyplot as plt\n",
    "import numpy as np\n",
    "\n",
    "y_data = [11791., 9692., 7711., 5974., 4515., 2744., 1975., 1287., 830., 571., 440. ]\n",
    "x_data = [11., 10., 9., 8., 7., 6., 5., 4., 3., 2., 1. ]\n"
   ]
  },
  {
   "cell_type": "code",
   "execution_count": 11,
   "metadata": {},
   "outputs": [],
   "source": [
    "# y_data = b + w * x_data\n",
    "\n",
    "x = np.arange(-3000,-2000,10) #bias\n",
    "y = np.arange(900,1300,4) #weight\n",
    "Z = np.zeros((len(x),len(y)))\n",
    "X ,Y = np.meshgrid(x,y)\n",
    "for i in range(len(x)):\n",
    "    for j in range(len(y)):\n",
    "        b = x[i]\n",
    "        w = y[j]\n",
    "        Z[j][i] = 0\n",
    "        for n in range(len(x_data)):\n",
    "            Z[j][i] = Z[j][i] + (y_data[n] - b - w*x_data[n])**2\n",
    "        Z[j][i] = Z[j][i]/len(x_data)"
   ]
  },
  {
   "cell_type": "code",
   "execution_count": 12,
   "metadata": {},
   "outputs": [],
   "source": [
    "# y_data = b + w * x_data\n",
    "b = -2200\n",
    "w = 1000\n",
    "lr = 0.0003 #learning rate\n",
    "iteration = 100000\n",
    "\n",
    "# store initial values for plotting\n",
    "b_history = [b]\n",
    "w_history = [w]\n",
    "\n",
    "# Iterations\n",
    "for i in range(iteration):\n",
    "    \n",
    "    b_grad = 0.0\n",
    "    w_grad = 0.0\n",
    "    for n in range(len(x_data)):\n",
    "        b_grad = b_grad - 2.0*(y_data[n] - b - w*x_data[n])*1.0\n",
    "        w_grad = w_grad - 2.0*(y_data[n] - b - w*x_data[n])*x_data[n]\n",
    "        \n",
    "    # update parameters.\n",
    "    b = b - lr * b_grad\n",
    "    w = w - lr * w_grad\n",
    "    \n",
    "    # store parameters for plotting\n",
    "    b_history.append(b)\n",
    "    w_history.append(w)\n",
    "    \n",
    "# plot the figure\n",
    "plt.contourf(x,y,Z, 50, alpha = 0.5, cmap=plt.get_cmap('jet'))\n",
    "# plt.plot([-188.4],[2.67],'x',ms=12, markeredgewidth=3, color='orange')\n",
    "plt.plot(b_history, w_history, 'o-', ms=3, lw=1.5, color='black')\n",
    "plt.xlabel(r'$b$', fontsize=16)\n",
    "plt.ylabel(r'$w$', fontsize=16)\n",
    "\n",
    "plt.show()\n"
   ]
  },
  {
   "cell_type": "code",
   "execution_count": 0,
   "metadata": {},
   "outputs": [],
   "source": [
    "plt.plot(x_data, y_data, 'o-', ms=3, lw=1.5, color='black')\n",
    "\n",
    "x_grad = np.arange(1,12)\n",
    "y_grad = [i*w+b for i in x_grad]\n",
    "plt.plot(x_grad,y_grad, 'o-', ms=3, lw=1.5, color='red')\n",
    "plt.show()\n",
    "print('y = x*',w,'+',b)"
   ]
  },
  {
   "cell_type": "markdown",
   "metadata": {},
   "source": [
    "## Using Square Function"
   ]
  },
  {
   "cell_type": "code",
   "execution_count": 0,
   "metadata": {},
   "outputs": [],
   "source": [
    "# y_data = b + w1 * x_data + w2 * x_data*x_data\n",
    "\n",
    "b = -2200\n",
    "w1 = 1000\n",
    "w2 = 0\n",
    "lr = 0.00001 #learning rate\n",
    "iteration = 500000\n",
    "\n",
    "diff = 0\n",
    "for n in range(len(x_data)):\n",
    "    diff = diff + (y_data[n] - b - w1*x_data[n] - w2*x_data[n]*x_data[n])**2\n",
    "\n",
    "# store initial values for plotting\n",
    "b_history = [b]\n",
    "w1_history = [w1]\n",
    "w2_history = [w2]\n",
    "diff_history = [diff]\n",
    "\n",
    "# Iterations\n",
    "for i in range(iteration):\n",
    "    \n",
    "    b_grad = 0.0\n",
    "    w1_grad = 0.0\n",
    "    w2_grad = 0.0\n",
    "    for n in range(len(x_data)):\n",
    "        b_grad = b_grad - 2.0*(y_data[n] - b - w1*x_data[n] - w2*x_data[n]*x_data[n])*1.0\n",
    "        w1_grad = w1_grad - 2.0*(y_data[n] - b - w1*x_data[n] - w2*x_data[n]*x_data[n])*x_data[n]\n",
    "        w2_grad = w2_grad - 2.0*(y_data[n] - b - w1*x_data[n] - w2*x_data[n]*x_data[n])*x_data[n]*x_data[n]\n",
    "\n",
    "    \n",
    "    # update parameters.\n",
    "    b = b - lr * b_grad\n",
    "    w1 = w1 - lr * w1_grad\n",
    "    w2 = w2 - lr * w2_grad\n",
    "    \n",
    "    # store parameters for plotting\n",
    "    \n",
    "    diff = 0\n",
    "    for n in range(len(x_data)):\n",
    "        diff = diff + (y_data[n] - b - w1*x_data[n] - w2*x_data[n]*x_data[n])**2\n",
    "    \n",
    "    b_history.append(b)\n",
    "    w1_history.append(w1)\n",
    "    w2_history.append(w2)\n",
    "    diff_history.append(diff)\n",
    "    \n",
    "# plot the figure\n",
    "plt.plot(x_data, y_data, 'o-', ms=3, lw=1.5, color='black')\n",
    "\n",
    "x_grad = np.arange(1,13)\n",
    "y_grad = [i*i*w2 + i*w1 + b for i in x_grad]\n",
    "plt.plot(x_grad,y_grad, 'o-', ms=3, lw=1.5, color='red')\n",
    "plt.show()\n",
    "print('y = x**2*',w2,'+x*',w1,'+',b)\n"
   ]
  },
  {
   "cell_type": "code",
   "execution_count": 0,
   "metadata": {},
   "outputs": [],
   "source": [
    "print(169*w2 + 13*w1 + b)"
   ]
  },
  {
   "cell_type": "code",
   "execution_count": 0,
   "metadata": {},
   "outputs": [],
   "source": [
    "plt.plot(range(iteration+1),diff_history)\n",
    "plt.show()"
   ]
  },
  {
   "cell_type": "code",
   "execution_count": 0,
   "metadata": {},
   "outputs": [],
   "source": [
    "print(144*w2 + 12*w1 + b)"
   ]
  },
  {
   "cell_type": "code",
   "execution_count": 0,
   "metadata": {},
   "outputs": [],
   "source": [
    "14380"
   ]
  },
  {
   "cell_type": "code",
   "execution_count": null,
   "metadata": {},
   "outputs": [],
   "source": []
  }
 ],
 "metadata": {
  "kernelspec": {
   "display_name": "Python 3",
   "language": "python",
   "name": "python3"
  },
  "language_info": {
   "codemirror_mode": {
    "name": "ipython",
    "version": 3
   },
   "file_extension": ".py",
   "mimetype": "text/x-python",
   "name": "python",
   "nbconvert_exporter": "python",
   "pygments_lexer": "ipython3",
   "version": "3.7.3-final"
  }
 },
 "nbformat": 4,
 "nbformat_minor": 2
}